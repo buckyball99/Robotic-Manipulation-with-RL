{
 "cells": [
  {
   "cell_type": "code",
   "execution_count": 9,
   "metadata": {},
   "outputs": [],
   "source": [
    "import gym\n",
    "import random\n",
    "import numpy as np\n",
    "import time\n",
    "from gym.envs.registration import register\n",
    "from IPython.display import clear_output\n",
    "import tensorflow as tf"
   ]
  },
  {
   "cell_type": "code",
   "execution_count": 10,
   "metadata": {
    "collapsed": true
   },
   "outputs": [],
   "source": [
    "from tensorflow.contrib.layers import fully_connected"
   ]
  },
  {
   "cell_type": "code",
   "execution_count": 11,
   "metadata": {},
   "outputs": [
    {
     "name": "stdout",
     "output_type": "stream",
     "text": [
      "Observation space: Discrete(16)\n",
      "Action space: Discrete(4)\n"
     ]
    },
    {
     "data": {
      "text/plain": [
       "gym.spaces.discrete.Discrete"
      ]
     },
     "execution_count": 11,
     "metadata": {},
     "output_type": "execute_result"
    }
   ],
   "source": [
    "env_name = \"FrozenLake-v0\"\n",
    "env = gym.make(env_name)\n",
    "print(\"Observation space:\", env.observation_space)\n",
    "print(\"Action space:\", env.action_space)\n",
    "type(env.action_space)\n"
   ]
  },
  {
   "cell_type": "code",
   "execution_count": 12,
   "metadata": {
    "collapsed": true
   },
   "outputs": [],
   "source": [
    "try:\n",
    "    register(\n",
    "        id='FrozenLakeNoSlip-v0',\n",
    "        entry_point='gym.envs.toy_text:FrozenLakeEnv',\n",
    "        kwargs={'map_name' : '4x4', 'is_slippery':False},\n",
    "        max_episode_steps=100,\n",
    "        reward_threshold=0.78, # optimum = .8196\n",
    "        )\n",
    "except:\n",
    "    pass"
   ]
  },
  {
   "cell_type": "code",
   "execution_count": 13,
   "metadata": {
    "collapsed": true
   },
   "outputs": [],
   "source": [
    "class Agent(object):\n",
    "    def __init__(self,env):\n",
    "        self.is_discrete = type(env.action_space) == gym.spaces.discrete.Discrete\n",
    "        if self.is_discrete:\n",
    "            self.action_size = env.action_space.n\n",
    "            print(\"Action size:\", self.action_size)\n",
    "        else:\n",
    "            self.action_low = env.action_space.low\n",
    "            self.action_high  = env.action_space.high\n",
    "            self.action_shape = env.action_space.shape\n",
    "            print(\"Action range:\", self.action_low, self.action_high)\n",
    "            \n",
    "            \n",
    "    def get_action(self, state):\n",
    "        if self.is_discrete:\n",
    "            action = random.choice(range(self.action_size))\n",
    "        else:\n",
    "            action = np.random.uniform(self.action_low,\n",
    "                                       self.action_high,\n",
    "                                       self.action_shape)\n",
    "        return action"
   ]
  },
  {
   "cell_type": "code",
   "execution_count": 14,
   "metadata": {},
   "outputs": [],
   "source": [
    "class QNAgent(Agent):\n",
    "    def __init__(self,env,discount_rate = 0.97, learning_rate = 0.01):\n",
    "        super().__init__(env)\n",
    "        self.total_reward = 0\n",
    "        self.state_size = env.observation_space.n   # Size of the state space, we need this to construct the q-table.\n",
    "        print(\"State size:\",self.state_size)\n",
    "        \n",
    "        self.discount_rate = discount_rate\n",
    "        self.learning_rate = learning_rate\n",
    "        self.eps = 1    # Epsilon is the factor/probability we are using to choose between qtable actions and random actions.   \n",
    "        \n",
    "        # Construct the q(action,value) table/matrix\n",
    "        self.buildQNet()   \n",
    "        \n",
    "        self.sess = tf.Session()\n",
    "        self.sess.run(tf.global_variables_initializer())\n",
    "        \n",
    "    def buildQNet(self):\n",
    "        tf.reset_default_graph()\n",
    "        \n",
    "        \n",
    "        # Placeholders - states,action, and target q-values. ONLY PLACEHOLDERS AND NOT THE ONE-HOT GO INTO THE FEED_DICT\n",
    "        self.state_feed = tf.placeholder(tf.int32,shape = [1])  # The shape is [1],here because we'll create the depth through the one-hot-encoding\n",
    "        self.action_feed = tf.placeholder(tf.int32,shape= [1])\n",
    "        self.q_value_target_feed = tf.placeholder(tf.int32,shape = [1]) # To calculate loss\n",
    "        \n",
    "        #One-hot-encoding for the placeholders\n",
    "        self.state = tf.one_hot(self.state_feed,depth = self.state_size)   # We won't be using this the next time, instead we'll use the *kwargs\n",
    "        self.action = tf.one_hot(self.action_feed,depth= self.action_size)\n",
    "        \n",
    "        #Create the NEURAL NET with dense layers.\n",
    "        self.q_state_nn = fully_connected(self.state,self.action_size,activation_fn= None,scope= 'q_state_nn')   # The default activation for contrib.layers is RelU,we need linear activation.\n",
    "#         self.q_state_nn = tf.layers.dense()\n",
    "        # q_action to perform from NN.\n",
    "        self.q_action_nn = tf.reduce_sum(tf.multiply(self.q_state_nn,self.action),axis= 1)  # VERY IMP - 1. Multiply one_hot action vector with the q_value_output from NN, and to get 1 single q_value from the NN, do a tf.reduce_mean\n",
    "        \n",
    "        # LOSS FUNCTION\n",
    "        self.loss = tf.losses.mean_squared_error(self.q_value_target_feed,self.q_action_nn)\n",
    "        # OPTIMIZER\n",
    "        self.optimizer = tf.train.AdamOptimizer(self.learning_rate)\n",
    "        # TRAIN VARIABLE \n",
    "        self.train_var = self.optimizer.minimize(self.loss)  # TRAIN METHOD ALREADY EXISTS,SO USED 'train_var' \n",
    "    \n",
    "    def get_action(self,state):\n",
    "#         q_state = self.Qtable[state]\n",
    "        q_state = self.sess.run(self.q_state_nn, feed_dict = {self.state_feed: [state]})    # we are outputting a VECTOR OF SIZE = action_size, by feeding into the q_state_nn, NOTICE HOW WE DON'T MENTION THE ONE_HOT_ENCODED VECTORS.\n",
    "        q_action_greedy = np.argmax(q_state)\n",
    "        q_action_random = super().get_action(state)   # Randomised action from the parent class get_action method.\n",
    "        self.random = random.random()\n",
    "        return q_action_random if self.random < self.eps else q_action_greedy\n",
    "    \n",
    "        \n",
    "    def train(self,experience):\n",
    "        state, action, next_state, reward, done = ([exp] for exp in experience)  #This experience tuple will have to be created by you, after accepting values from env.step().\n",
    "#         q_state_next = self.Qtable[next_state]    # Get the corresponding q_state arrays containing actions from the q-table.\n",
    "        \n",
    "        # Get next list of actions: q_state_next\n",
    "        q_state_next = self.sess.run(self.q_state_nn, feed_dict={self.state_feed: next_state})\n",
    "        q_state_next[done] = np.zeros([self.action_size])   # IF Didn't understand this\n",
    "        \n",
    "        #Bellman equation\n",
    "        q_value_target  = reward + self.discount_rate* np.max(q_state_next)   # The new estimated/target value is based on the recieved reward and the discounted value of the next state.\n",
    "\n",
    "        #RUN OPTIMIZER,i.e TRAIN THE NET\n",
    "        feed = {self.state_feed: state, self.action_feed: action, self.q_value_target_feed: q_value_target}         # The q_error and updating q_table replaced with the ACTUAL NEURAL NET\n",
    "        self.sess.run(self.train_var,feed_dict=feed)\n",
    "        \n",
    "        \n",
    "        # Decrease random actions as the number of episodes increase\n",
    "        if experience[4]:\n",
    "            self.eps = self.eps*.99\n",
    "    \n",
    "    def __del__(self):\n",
    "        self.sess.close()\n"
   ]
  },
  {
   "cell_type": "code",
   "execution_count": 15,
   "metadata": {},
   "outputs": [
    {
     "name": "stdout",
     "output_type": "stream",
     "text": [
      "Action size: 4\n",
      "State size: 16\n"
     ]
    }
   ],
   "source": [
    "agent = QNAgent(env)"
   ]
  },
  {
   "cell_type": "code",
   "execution_count": 16,
   "metadata": {},
   "outputs": [
    {
     "ename": "SyntaxError",
     "evalue": "unexpected EOF while parsing (<ipython-input-16-e961d51a2a67>, line 32)",
     "output_type": "error",
     "traceback": [
      "\u001b[1;36m  File \u001b[1;32m\"<ipython-input-16-e961d51a2a67>\"\u001b[1;36m, line \u001b[1;32m32\u001b[0m\n\u001b[1;33m    \u001b[0m\n\u001b[1;37m    ^\u001b[0m\n\u001b[1;31mSyntaxError\u001b[0m\u001b[1;31m:\u001b[0m unexpected EOF while parsing\n"
     ]
    }
   ],
   "source": [
    "\n",
    "# agent = Agent(env)\n",
    "agent.total_reward = 0\n",
    "\n",
    "for ep in range(100):\n",
    "    done = False\n",
    "    state = env.reset()\n",
    "    while not done:\n",
    "        # Do an action for the state you're in, either random or from q_table, so initially it will do random actions\n",
    "        action = agent.get_action(state)\n",
    "        \n",
    "        # Recieve the 4 golden values,after doing the action. (Read- NCfOM)\n",
    "        next_state,reward,done,info = env.step(action)\n",
    "        \n",
    "        # Train the agent\n",
    "        agent.train((state, action, next_state, reward, done))  # Now that you have the results from your actions, use them to better your agent in future experiences.\n",
    "        \n",
    "        state = next_state \n",
    "        agent.total_reward += reward\n",
    "        \n",
    "        print(\"s:\", state, \"a:\", action)\n",
    "        print(\"Episode: {}, Total reward: {}, Current Reward:{}, eps: {},random: {}\".format(ep,agent.total_reward,reward,agent.eps,agent.random))\n",
    "#         print(agent.total_reward,agent.eps)\n",
    "        env.render()\n",
    "        \n",
    "        with tf.variable_scope(\"q_state_nn\", reuse=True):\n",
    "            weights = agent.sess.run(tf.get_variable(\"kernel\"))\n",
    "            tf.get_variable()\n",
    "            print(weights)\n",
    "        time.sleep(0.05)\n",
    "        clear_output(wait=True\n",
    "    "
   ]
  },
  {
   "cell_type": "code",
   "execution_count": null,
   "metadata": {
    "collapsed": true
   },
   "outputs": [],
   "source": []
  },
  {
   "cell_type": "code",
   "execution_count": null,
   "metadata": {
    "collapsed": true
   },
   "outputs": [],
   "source": []
  },
  {
   "cell_type": "code",
   "execution_count": null,
   "metadata": {
    "collapsed": true
   },
   "outputs": [],
   "source": []
  },
  {
   "cell_type": "code",
   "execution_count": null,
   "metadata": {
    "collapsed": true
   },
   "outputs": [],
   "source": [
    "state_one_hot = tf.one_hot()    #Default is axis = -1, i.e shape = features x depth"
   ]
  }
 ],
 "metadata": {
  "kernelspec": {
   "display_name": "Python 3",
   "language": "python",
   "name": "python3"
  },
  "language_info": {
   "codemirror_mode": {
    "name": "ipython",
    "version": 3
   },
   "file_extension": ".py",
   "mimetype": "text/x-python",
   "name": "python",
   "nbconvert_exporter": "python",
   "pygments_lexer": "ipython3",
   "version": "3.5.4"
  }
 },
 "nbformat": 4,
 "nbformat_minor": 2
}
