{
 "cells": [
  {
   "cell_type": "code",
   "execution_count": 1,
   "metadata": {
    "collapsed": true
   },
   "outputs": [],
   "source": [
    "import gym\n",
    "import random\n",
    "import numpy as np\n",
    "import time\n",
    "from gym.envs.registration import register\n",
    "from IPython.display import clear_output"
   ]
  },
  {
   "cell_type": "code",
   "execution_count": 2,
   "metadata": {},
   "outputs": [
    {
     "name": "stdout",
     "output_type": "stream",
     "text": [
      "Observation space: Discrete(16)\n",
      "Action space: Discrete(4)\n"
     ]
    },
    {
     "data": {
      "text/plain": [
       "gym.spaces.discrete.Discrete"
      ]
     },
     "execution_count": 2,
     "metadata": {},
     "output_type": "execute_result"
    }
   ],
   "source": [
    "env_name = \"FrozenLake-v0\"\n",
    "env = gym.make(env_name)\n",
    "print(\"Observation space:\", env.observation_space)\n",
    "print(\"Action space:\", env.action_space)\n",
    "type(env.action_space)\n"
   ]
  },
  {
   "cell_type": "code",
   "execution_count": 3,
   "metadata": {
    "collapsed": true
   },
   "outputs": [],
   "source": [
    "try:\n",
    "    register(\n",
    "        id='FrozenLakeNoSlip-v0',\n",
    "        entry_point='gym.envs.toy_text:FrozenLakeEnv',\n",
    "        kwargs={'map_name' : '4x4', 'is_slippery':False},\n",
    "        max_episode_steps=100,\n",
    "        reward_threshold=0.78, # optimum = .8196\n",
    "        )\n",
    "except:\n",
    "    pass"
   ]
  },
  {
   "cell_type": "code",
   "execution_count": 4,
   "metadata": {
    "collapsed": true
   },
   "outputs": [],
   "source": [
    "class Agent(object):\n",
    "    def __init__(self,env):\n",
    "        self.is_discrete = type(env.action_space) == gym.spaces.discrete.Discrete\n",
    "        if self.is_discrete:\n",
    "            self.action_size = env.action_space.n\n",
    "            print(\"Action size:\", self.action_size)\n",
    "        else:\n",
    "            self.action_low = env.action_space.low\n",
    "            self.action_high  = env.action_space.high\n",
    "            self.action_shape = env.action_space.shape\n",
    "            print(\"Action range:\", self.action_low, self.action_high)\n",
    "            \n",
    "            \n",
    "    def get_action(self, state):\n",
    "        if self.is_discrete:\n",
    "            action = random.choice(range(self.action_size))\n",
    "        else:\n",
    "            action = np.random.uniform(self.action_low,\n",
    "                                       self.action_high,\n",
    "                                       self.action_shape)\n",
    "        return action"
   ]
  },
  {
   "cell_type": "code",
   "execution_count": 5,
   "metadata": {},
   "outputs": [],
   "source": [
    "class QAgent(Agent):\n",
    "    def __init__(self,env,discount_rate = 0.97, learning_rate = 0.01):\n",
    "        super().__init__(env)\n",
    "        self.total_reward = 0\n",
    "        self.state_size = env.observation_space.n   # Size of the state space, we need this to construct the q-table.\n",
    "        print(\"State size:\",self.state_size)\n",
    "        \n",
    "        self.discount_rate = discount_rate\n",
    "        self.learning_rate = learning_rate\n",
    "        self.eps = 1    # Epsilon is the factor/probability we are using to choose between qtable actions and random actions.   \n",
    "        \n",
    "        # Construct the q(action,value) table/matrix\n",
    "        self.buildQtable()   \n",
    "        \n",
    "    def buildQtable(self):\n",
    "#         np.random.rand(self.state_size,self.action_size)\n",
    "        self.Qtable = 1e-4*np.random.random([self.state_size, self.action_size])\n",
    "        \n",
    "    \n",
    "    def get_action(self,state):\n",
    "        q_state = self.Qtable[state]\n",
    "        q_action_greedy = np.argmax(q_state)\n",
    "        q_action_random = super().get_action(state)   # Randomised action from the parent class get_action method.\n",
    "        self.random = random.random()\n",
    "        return q_action_random if self.random < self.eps else q_action_greedy\n",
    "    \n",
    "        \n",
    "    def train(self,experience):\n",
    "        state, action, next_state, reward, done = experience  #This experience tuple will have to be created by you, after accepting values from env.step().\n",
    "        q_state_next = self.Qtable[next_state]    # Get the corresponding q_state arrays containing actions from the q-table.\n",
    "        q_state_next = np.zeros(self.action_size) if done else q_state_next\n",
    "    \n",
    "        q_value_target  = reward + self.discount_rate* np.max(q_state_next)   # The new estimated/target value is based on the recieved reward and the discounted value of the next state.\n",
    "        \n",
    "        # Error to update the Qtable value with\n",
    "        q_value_error = q_value_target - self.Qtable[state,action]    # NOTICE we've used the current state-action pair from Qtable, so that the next time the agent is in that position, it will consider accordingly.\n",
    "        \n",
    "        # Update the Qtable using Bellman equation\n",
    "        self.Qtable[state,action] += self.learning_rate*q_value_error\n",
    "        \n",
    "        # Decrease random actions as the number of episodes increase\n",
    "        if done:\n",
    "            self.eps = self.eps*.99\n",
    "            \n"
   ]
  },
  {
   "cell_type": "code",
   "execution_count": 6,
   "metadata": {},
   "outputs": [
    {
     "name": "stdout",
     "output_type": "stream",
     "text": [
      "Action size: 4\n",
      "State size: 16\n"
     ]
    }
   ],
   "source": [
    "agent = QAgent(env)"
   ]
  },
  {
   "cell_type": "code",
   "execution_count": 16,
   "metadata": {},
   "outputs": [
    {
     "name": "stdout",
     "output_type": "stream",
     "text": [
      "s: 5 a: 2\n",
      "Episode: 99, Total reward: 15.0, Current Reward:0.0, eps: 4.317124741065784e-05,random: 0.8044647191927314\n",
      "  (Right)\n",
      "SFFF\n",
      "F\u001b[41mH\u001b[0mFH\n",
      "FFFH\n",
      "HFFG\n",
      "[[  5.53749618e-05   6.47889807e-05   7.31317303e-03   5.55118436e-05]\n",
      " [  4.66643883e-05   4.45402729e-05   4.21649673e-05   7.06509626e-03]\n",
      " [  1.14666721e-02   8.07703444e-05   4.36964231e-05   5.26522957e-05]\n",
      " [  2.64235338e-05   2.45365543e-05   5.28714503e-05   6.40195880e-05]\n",
      " [  1.11511251e-02   5.32839721e-05   5.35541622e-05   2.95071983e-05]\n",
      " [  9.37334233e-05   7.39120275e-05   5.20014982e-05   1.61823298e-06]\n",
      " [  4.93850295e-05   2.68049006e-02   1.73231655e-05   5.00712512e-05]\n",
      " [  8.16033934e-05   7.34803010e-05   6.19597746e-05   1.08050944e-05]\n",
      " [  5.39976356e-05   2.43426517e-02   2.48577846e-05   1.02595144e-05]\n",
      " [  2.49363585e-05   4.73007874e-05   7.34016698e-02   5.85563955e-05]\n",
      " [  7.73823231e-05   1.26170174e-01   4.49948135e-05   3.78390478e-05]\n",
      " [  2.44313231e-06   1.46117895e-05   1.53476018e-05   6.62643027e-05]\n",
      " [  6.86443792e-05   8.06027367e-06   6.41167095e-05   1.32702718e-05]\n",
      " [  3.17562285e-05   3.95895617e-04   1.94037647e-01   8.41371243e-05]\n",
      " [  2.76195282e-05   4.87952075e-01   1.87920863e-05   6.42719232e-06]\n",
      " [  1.92851175e-05   7.49797007e-05   5.46907705e-06   7.28347099e-05]]\n"
     ]
    }
   ],
   "source": [
    "\n",
    "# agent = Agent(env)\n",
    "agent.total_reward = 0\n",
    "\n",
    "for ep in range(100):\n",
    "    done = False\n",
    "    state = env.reset()\n",
    "    while not done:\n",
    "        # Do an action for the state you're in, either random or from q_table, so initially it will do random actions\n",
    "        action = agent.get_action(state)\n",
    "        \n",
    "        # Recieve the 4 golden values,after doing the action. (Read- NCfOM)\n",
    "        next_state,reward,done,info = env.step(action)\n",
    "        \n",
    "        # Train the agent\n",
    "        agent.train((state, action, next_state, reward, done))  # Now that you have the results from your actions, use them to better your agent in future experiences.\n",
    "        \n",
    "        state = next_state \n",
    "        agent.total_reward += reward\n",
    "        \n",
    "        print(\"s:\", state, \"a:\", action)\n",
    "        print(\"Episode: {}, Total reward: {}, Current Reward:{}, eps: {},random: {}\".format(ep,agent.total_reward,reward,agent.eps,agent.random))\n",
    "#         print(agent.total_reward,agent.eps)\n",
    "        env.render()\n",
    "        \n",
    "        print(agent.Qtable)\n",
    "        time.sleep(0.05)\n",
    "        clear_output(wait=True)\n",
    "    "
   ]
  },
  {
   "cell_type": "code",
   "execution_count": null,
   "metadata": {
    "collapsed": true
   },
   "outputs": [],
   "source": [
    "# NOTES - The number of rows in Qtable = 8*8 = 16, which are the states.\n",
    "# Similarly there are 4 Actions - Left,Right,Up,Down.\n",
    "#  Observe the qtable ater a lot of iterations, the maximum in the first state is 2nd, which is Right, and the minimum is the last, which is Up.\n",
    "# LEFT = 0\n",
    "# DOWN = 1\n",
    "# RIGHT = 2\n",
    "# UP = 3\n",
    "# LINK  - https://gym.openai.com/envs/FrozenLake-v0/"
   ]
  }
 ],
 "metadata": {
  "kernelspec": {
   "display_name": "Python 3",
   "language": "python",
   "name": "python3"
  },
  "language_info": {
   "codemirror_mode": {
    "name": "ipython",
    "version": 3
   },
   "file_extension": ".py",
   "mimetype": "text/x-python",
   "name": "python",
   "nbconvert_exporter": "python",
   "pygments_lexer": "ipython3",
   "version": "3.5.4"
  }
 },
 "nbformat": 4,
 "nbformat_minor": 2
}
