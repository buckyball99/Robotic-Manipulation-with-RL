{
 "cells": [
  {
   "cell_type": "code",
   "execution_count": 1,
   "metadata": {
    "collapsed": true
   },
   "outputs": [],
   "source": [
    "import gym\n",
    "import random\n",
    "import numpy as np\n",
    "import time\n",
    "from gym.envs.registration import register\n",
    "from IPython.display import clear_output"
   ]
  },
  {
   "cell_type": "code",
   "execution_count": 2,
   "metadata": {},
   "outputs": [
    {
     "name": "stdout",
     "output_type": "stream",
     "text": [
      "Observation space: Discrete(16)\n",
      "Action space: Discrete(4)\n"
     ]
    },
    {
     "data": {
      "text/plain": [
       "gym.spaces.discrete.Discrete"
      ]
     },
     "execution_count": 2,
     "metadata": {},
     "output_type": "execute_result"
    }
   ],
   "source": [
    "env_name = \"FrozenLake-v0\"\n",
    "env = gym.make(env_name)\n",
    "print(\"Observation space:\", env.observation_space)\n",
    "print(\"Action space:\", env.action_space)\n",
    "type(env.action_space)\n"
   ]
  },
  {
   "cell_type": "code",
   "execution_count": 3,
   "metadata": {
    "collapsed": true
   },
   "outputs": [],
   "source": [
    "try:\n",
    "    register(\n",
    "        id='FrozenLakeNoSlip-v0',\n",
    "        entry_point='gym.envs.toy_text:FrozenLakeEnv',\n",
    "        kwargs={'map_name' : '4x4', 'is_slippery':False},\n",
    "        max_episode_steps=100,\n",
    "        reward_threshold=0.78, # optimum = .8196\n",
    "        )\n",
    "except:\n",
    "    pass"
   ]
  },
  {
   "cell_type": "code",
   "execution_count": 4,
   "metadata": {
    "collapsed": true
   },
   "outputs": [],
   "source": [
    "class Agent(object):\n",
    "    def __init__(self,env):\n",
    "        self.is_discrete = type(env.action_space) == gym.spaces.discrete.Discrete\n",
    "        if self.is_discrete:\n",
    "            self.action_size = env.action_space.n\n",
    "            print(\"Action size:\", self.action_size)\n",
    "        else:\n",
    "            self.action_low = env.action_space.low\n",
    "            self.action_high  = env.action_space.high\n",
    "            self.action_shape = env.action_space.shape\n",
    "            print(\"Action range:\", self.action_low, self.action_high)\n",
    "            \n",
    "            \n",
    "    def get_action(self, state):\n",
    "        if self.is_discrete:\n",
    "            action = random.choice(range(self.action_size))\n",
    "        else:\n",
    "            action = np.random.uniform(self.action_low,\n",
    "                                       self.action_high,\n",
    "                                       self.action_shape)\n",
    "        return action"
   ]
  },
  {
   "cell_type": "code",
   "execution_count": 5,
   "metadata": {
    "collapsed": true
   },
   "outputs": [],
   "source": [
    "class QAgent(Agent):\n",
    "    def __init__(self,env,discount_rate = 0.97, learning_rate = 0.01):\n",
    "        super().__init__(env)\n",
    "        self.total_reward = 0\n",
    "        self.state_size = env.observation_space.n   # Size of the state space, we need this to construct the q-table.\n",
    "        print(\"State size:\",self.state_size)\n",
    "        \n",
    "        self.discount_rate = discount_rate\n",
    "        self.learning_rate = learning_rate\n",
    "        self.eps = 1    # Epsilon is the factor/probability we are using to choose between qtable actions and random actions.   \n",
    "        \n",
    "        # Construct the q(action,value) table/matrix\n",
    "        self.buildQtable()   \n",
    "        \n",
    "    def buildQtable(self):\n",
    "#         np.random.rand(self.state_size,self.action_size)\n",
    "        self.Qtable = 1e-4*np.random.random([self.state_size, self.action_size])\n",
    "        \n",
    "    \n",
    "    def get_action(self,state):\n",
    "        q_state = self.Qtable[state]\n",
    "        q_action_greedy = np.argmax(q_state)\n",
    "        q_action_random = super().get_action(state)   # Randomised action from the parent class get_action method.\n",
    "        self.random = random.random()\n",
    "        return q_action_random if self.random < self.eps else q_action_greedy\n",
    "    \n",
    "        \n",
    "    def train(self,experience):\n",
    "        state, action, next_state, reward, done = experience  #This experience tuple will have to be created by you, after accepting values from env.step().\n",
    "        q_state_next = self.Qtable[next_state]    # Get the corresponding q_state arrays containing actions from the q-table.\n",
    "        q_state_next = np.zeros(self.action_size) if done else q_state_next\n",
    "    \n",
    "        q_value_target  = reward + self.discount_rate* np.max(q_state_next)   # The new estimated/target value is based on the recieved reward and the discounted value of the next state.\n",
    "        \n",
    "        # Error to update the Qtable value with\n",
    "        q_value_error = q_value_target - self.Qtable[state,action]    # NOTICE we've used the current state-action pair from Qtable, so that the next time the agent is in that position, it will consider accordingly.\n",
    "        \n",
    "        # Update the Qtable using Bellman equation\n",
    "        self.Qtable[state,action] += self.learning_rate*q_value_error\n",
    "        \n",
    "        # Decrease random actions as the number of episodes increase\n",
    "        if done:\n",
    "            self.eps = self.eps*.99\n",
    "            \n"
   ]
  },
  {
   "cell_type": "code",
   "execution_count": 6,
   "metadata": {},
   "outputs": [
    {
     "name": "stdout",
     "output_type": "stream",
     "text": [
      "Action size: 4\n",
      "State size: 16\n"
     ]
    }
   ],
   "source": [
    "agent = QAgent(env)"
   ]
  },
  {
   "cell_type": "code",
   "execution_count": 7,
   "metadata": {},
   "outputs": [
    {
     "name": "stdout",
     "output_type": "stream",
     "text": [
      "s: 5 a: 2\n",
      "Episode: 99, Total reward: 3.0, Current Reward:0.0, eps: 0.36603234127322926,random: 0.7260121830415334\n",
      "  (Right)\n",
      "SFFF\n",
      "F\u001b[41mH\u001b[0mFH\n",
      "FFFH\n",
      "HFFG\n",
      "[[  4.71234151e-05   4.40461816e-05   8.22838847e-05   6.52600806e-05]\n",
      " [  7.37844218e-05   6.62907675e-05   3.20340685e-05   5.92107531e-05]\n",
      " [  8.61115079e-05   5.79039445e-05   4.18332078e-05   1.01058110e-05]\n",
      " [  1.81538271e-05   7.45616373e-05   4.37230378e-05   6.36754249e-05]\n",
      " [  3.91060948e-05   3.76135380e-05   7.45634154e-05   1.44663123e-05]\n",
      " [  3.59309423e-05   2.19484065e-06   3.17624914e-05   8.66676135e-05]\n",
      " [  8.76981060e-05   9.24203525e-05   5.22548715e-05   6.23069067e-05]\n",
      " [  5.11125233e-05   2.56901347e-05   9.91837043e-05   6.36427490e-05]\n",
      " [  5.27270506e-05   1.53894701e-05   5.46592264e-05   4.54312695e-06]\n",
      " [  1.31257418e-05   4.95206373e-05   8.35953143e-06   7.27835457e-06]\n",
      " [  1.73346477e-05   2.25370597e-04   2.63257243e-04   1.62451918e-05]\n",
      " [  4.86447650e-05   1.10210084e-05   5.72303203e-06   1.90509864e-05]\n",
      " [  9.63688805e-05   1.06976526e-05   4.83191092e-05   6.43706086e-05]\n",
      " [  6.73010401e-05   1.87398872e-04   4.36277669e-05   2.51600990e-04]\n",
      " [  6.59511543e-05   1.00257741e-02   5.42283176e-05   1.97310702e-02]\n",
      " [  3.14567396e-05   2.04323977e-05   2.80830287e-05   3.61245747e-05]]\n"
     ]
    }
   ],
   "source": [
    "\n",
    "# agent = Agent(env)\n",
    "agent.total_reward = 0\n",
    "\n",
    "for ep in range(100):\n",
    "    done = False\n",
    "    state = env.reset()\n",
    "    while not done:\n",
    "        # Do an action for the state you're in, either random or from q_table, so initially it will do random actions\n",
    "        action = agent.get_action(state)\n",
    "        \n",
    "        # Recieve the 4 golden values,after doing the action. (Read- NCfOM)\n",
    "        next_state,reward,done,info = env.step(action)\n",
    "        \n",
    "        # Train the agent\n",
    "        agent.train((state, action, next_state, reward, done))  # Now that you have the results from your actions, use them to better your agent in future experiences.\n",
    "        \n",
    "        state = next_state \n",
    "        agent.total_reward += reward\n",
    "        \n",
    "        print(\"s:\", state, \"a:\", action)\n",
    "        print(\"Episode: {}, Total reward: {}, Current Reward:{}, eps: {},random: {}\".format(ep,agent.total_reward,reward,agent.eps,agent.random))\n",
    "#         print(agent.total_reward,agent.eps)\n",
    "        env.render()\n",
    "        \n",
    "        print(agent.Qtable)\n",
    "        time.sleep(0.05)\n",
    "        clear_output(wait=True)\n",
    "    "
   ]
  },
  {
   "cell_type": "code",
   "execution_count": null,
   "metadata": {
    "collapsed": true
   },
   "outputs": [],
   "source": [
    "# NOTES - The number of rows in Qtable = 8*8 = 16, which are the states.\n",
    "# Similarly there are 4 Actions - Left,Right,Up,Down.\n",
    "#  Observe the qtable ater a lot of iterations, the maximum in the first state is 2nd, which is Right, and the minimum is the last, which is Up.\n",
    "# LEFT = 0\n",
    "# DOWN = 1\n",
    "# RIGHT = 2\n",
    "# UP = 3\n",
    "# LINK  - https://gym.openai.com/envs/FrozenLake-v0/"
   ]
  }
 ],
 "metadata": {
  "kernelspec": {
   "display_name": "Python 3",
   "language": "python",
   "name": "python3"
  },
  "language_info": {
   "codemirror_mode": {
    "name": "ipython",
    "version": 3
   },
   "file_extension": ".py",
   "mimetype": "text/x-python",
   "name": "python",
   "nbconvert_exporter": "python",
   "pygments_lexer": "ipython3",
   "version": "3.5.4"
  }
 },
 "nbformat": 4,
 "nbformat_minor": 2
}
